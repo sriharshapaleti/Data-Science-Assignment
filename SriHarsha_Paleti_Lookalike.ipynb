{
  "nbformat": 4,
  "nbformat_minor": 0,
  "metadata": {
    "colab": {
      "provenance": []
    },
    "kernelspec": {
      "name": "python3",
      "display_name": "Python 3"
    },
    "language_info": {
      "name": "python"
    }
  },
  "cells": [
    {
      "cell_type": "code",
      "execution_count": 6,
      "metadata": {
        "colab": {
          "base_uri": "https://localhost:8080/"
        },
        "id": "yswQJhw8NNU4",
        "outputId": "8c355f9f-9eab-46e6-d352-021cd4401a40"
      },
      "outputs": [
        {
          "output_type": "stream",
          "name": "stdout",
          "text": [
            "  CustomerID  TotalValue  Quantity  Region_Europe  Region_North America  \\\n",
            "0      C0001    0.308942  0.354839          False                 False   \n",
            "1      C0002    0.168095  0.290323          False                 False   \n",
            "2      C0003    0.249541  0.419355          False                 False   \n",
            "3      C0004    0.497806  0.709677          False                 False   \n",
            "4      C0005    0.184287  0.193548          False                 False   \n",
            "\n",
            "   Region_South America  Category_Clothing  Category_Electronics  \\\n",
            "0                  True              False                  True   \n",
            "1                 False               True                 False   \n",
            "2                  True              False                 False   \n",
            "3                  True              False                 False   \n",
            "4                 False              False                  True   \n",
            "\n",
            "   Category_Home Decor  \n",
            "0                False  \n",
            "1                False  \n",
            "2                 True  \n",
            "3                False  \n",
            "4                False  \n"
          ]
        }
      ],
      "source": [
        "import pandas as pd\n",
        "import matplotlib.pyplot as plt\n",
        "customers=pd.read_csv(\"Customers.csv\")\n",
        "products=pd.read_csv(\"Products.csv\")\n",
        "transactions = pd.read_csv(\"Transactions.csv\")\n",
        "transactions ['TransactionDate'] = pd.to_datetime(transactions['TransactionDate'], errors='coerce')\n",
        "\n",
        "merged_data = transactions.merge(customers, on='CustomerID', how='left').merge(products, on='ProductID', how='left')\n",
        "merged_data['TransactionMonth'] = merged_data['TransactionDate'].dt.to_period('M')\n",
        "# Aggregating data for each customer\n",
        "customer_features = merged_data.groupby('CustomerID').agg({\n",
        "    'TotalValue': 'sum',\n",
        "    'Quantity': 'sum',\n",
        "    'Category': lambda x: x.mode()[0],  # Most frequent category\n",
        "    'Region': 'first'}).reset_index()\n",
        "\n",
        "# Encode categorical data (Region, Category)\n",
        "customer_features = pd.get_dummies(customer_features, columns=['Region', 'Category'], drop_first=True)\n",
        "\n",
        "# Normalize numerical features\n",
        "from sklearn.preprocessing import MinMaxScaler\n",
        "scaler = MinMaxScaler()\n",
        "numerical_cols = ['TotalValue', 'Quantity']\n",
        "customer_features[numerical_cols] = scaler.fit_transform(customer_features[numerical_cols])\n",
        "\n",
        "print(customer_features.head())"
      ]
    },
    {
      "cell_type": "code",
      "source": [
        "from sklearn.metrics.pairwise import cosine_similarity\n",
        "\n",
        "# Calculate similarity matrix\n",
        "similarity_matrix = cosine_similarity(customer_features.drop(columns=['CustomerID']))\n",
        "similarity_df = pd.DataFrame(similarity_matrix, index=customer_features['CustomerID'], columns=customer_features['CustomerID'])\n",
        "\n",
        "# Find top 3 similar customers for first 20 customers\n",
        "lookalike_results = {}\n",
        "for customer_id in customer_features['CustomerID'][:20]:\n",
        "    similar_customers = similarity_df[customer_id].nlargest(4).iloc[1:4]  # Exclude self\n",
        "    lookalike_results[customer_id] = similar_customers\n",
        "\n",
        "print(lookalike_results)\n"
      ],
      "metadata": {
        "colab": {
          "base_uri": "https://localhost:8080/"
        },
        "id": "ctRfzHxJYhWe",
        "outputId": "e2daffba-aa19-4e42-fba5-3d30da9875b3"
      },
      "execution_count": 7,
      "outputs": [
        {
          "output_type": "stream",
          "name": "stdout",
          "text": [
            "{'C0001': CustomerID\n",
            "C0184    0.999772\n",
            "C0048    0.999533\n",
            "C0190    0.998816\n",
            "Name: C0001, dtype: float64, 'C0002': CustomerID\n",
            "C0088    0.999712\n",
            "C0092    0.995012\n",
            "C0106    0.992668\n",
            "Name: C0002, dtype: float64, 'C0003': CustomerID\n",
            "C0076    0.997758\n",
            "C0052    0.996351\n",
            "C0031    0.995500\n",
            "Name: C0003, dtype: float64, 'C0004': CustomerID\n",
            "C0169    0.997158\n",
            "C0087    0.996124\n",
            "C0165    0.991425\n",
            "Name: C0004, dtype: float64, 'C0005': CustomerID\n",
            "C0186    0.999698\n",
            "C0146    0.998471\n",
            "C0007    0.998434\n",
            "Name: C0005, dtype: float64, 'C0006': CustomerID\n",
            "C0126    0.999394\n",
            "C0187    0.999085\n",
            "C0011    0.998734\n",
            "Name: C0006, dtype: float64, 'C0007': CustomerID\n",
            "C0146    1.000000\n",
            "C0115    0.998840\n",
            "C0005    0.998434\n",
            "Name: C0007, dtype: float64, 'C0008': CustomerID\n",
            "C0160    0.990542\n",
            "C0059    0.988556\n",
            "C0079    0.987508\n",
            "Name: C0008, dtype: float64, 'C0009': CustomerID\n",
            "C0198    0.999997\n",
            "C0061    0.994413\n",
            "C0062    0.992539\n",
            "Name: C0009, dtype: float64, 'C0010': CustomerID\n",
            "C0111    0.996443\n",
            "C0062    0.996210\n",
            "C0103    0.992799\n",
            "Name: C0010, dtype: float64, 'C0011': CustomerID\n",
            "C0006    0.998734\n",
            "C0137    0.998146\n",
            "C0126    0.997875\n",
            "Name: C0011, dtype: float64, 'C0012': CustomerID\n",
            "C0163    0.999544\n",
            "C0113    0.998042\n",
            "C0195    0.997173\n",
            "Name: C0012, dtype: float64, 'C0013': CustomerID\n",
            "C0099    0.998081\n",
            "C0108    0.997441\n",
            "C0107    0.984848\n",
            "Name: C0013, dtype: float64, 'C0014': CustomerID\n",
            "C0060    0.999876\n",
            "C0089    0.982982\n",
            "C0172    0.976630\n",
            "Name: C0014, dtype: float64, 'C0015': CustomerID\n",
            "C0131    0.993145\n",
            "C0036    0.990271\n",
            "C0094    0.987963\n",
            "Name: C0015, dtype: float64, 'C0016': CustomerID\n",
            "C0183    0.999107\n",
            "C0067    0.996510\n",
            "C0098    0.995311\n",
            "Name: C0016, dtype: float64, 'C0017': CustomerID\n",
            "C0041    0.995800\n",
            "C0057    0.993425\n",
            "C0075    0.990475\n",
            "Name: C0017, dtype: float64, 'C0018': CustomerID\n",
            "C0122    0.999404\n",
            "C0046    0.998281\n",
            "C0194    0.993790\n",
            "Name: C0018, dtype: float64, 'C0019': CustomerID\n",
            "C0073    0.999536\n",
            "C0070    0.996591\n",
            "C0135    0.996123\n",
            "Name: C0019, dtype: float64, 'C0020': CustomerID\n",
            "C0157    0.985973\n",
            "C0050    0.984214\n",
            "C0035    0.982241\n",
            "Name: C0020, dtype: float64}\n"
          ]
        }
      ]
    }
  ]
}